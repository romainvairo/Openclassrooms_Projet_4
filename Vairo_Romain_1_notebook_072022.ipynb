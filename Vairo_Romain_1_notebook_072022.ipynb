{
 "cells": [
  {
   "cell_type": "markdown",
   "id": "0a99d084",
   "metadata": {},
   "source": [
    "# Construisez un modèle de scoring"
   ]
  },
  {
   "cell_type": "markdown",
   "id": "1f6da16c",
   "metadata": {},
   "source": [
    "#### développer un algorithme de classification pour aider à décider si un prêt peut être accordé à un client"
   ]
  },
  {
   "cell_type": "markdown",
   "id": "12dd4c12",
   "metadata": {},
   "source": [
    "### [Compréhension de la problématique métier](#comprehension)\n",
    "### [Description du jeu de données](#description)\n",
    "### [Transformation du jeu de données (nettoyage et feature engineering)](#nettoyage)\n",
    "\n",
    " * [Import des librairies](#librairie)  \n",
    " * [Présentation du jeu de données](#présentation)  \n",
    " * [Suppression des doublons](#doublons)  \n",
    " * [Traitement des valeurs manquantes](#manquantes)  \n",
    " * [Suppression des variables non-utilisées du jeu de données](#non-utilisée)  \n",
    " \n",
    "### [Comparaison et synthèse des résultats pour les modèles utilisés](#comparaison)\n",
    "### [Interprétabilité du modèle](#interpreter)\n",
    "\n",
    "### [Conclusion](#conclusion)\n",
    "\n",
    " * [Conclusion du modèle de scoring](#scoring)  "
   ]
  },
  {
   "cell_type": "markdown",
   "id": "acc669ad",
   "metadata": {},
   "source": [
    "# <center><a id='comprehension'>Compréhension de la problématique métier</a></center>"
   ]
  },
  {
   "cell_type": "markdown",
   "id": "c3dc1849",
   "metadata": {},
   "source": [
    "# <center><a id='description'>Description du jeu de données</a></center>"
   ]
  },
  {
   "cell_type": "markdown",
   "id": "5ca8a6b0",
   "metadata": {},
   "source": [
    "# <center><a id='nettoyage'>Transformation du jeu de données (nettoyage et feature engineering)</a></center>"
   ]
  },
  {
   "cell_type": "markdown",
   "id": "f6d3d4c3",
   "metadata": {},
   "source": [
    "## <center><a id='librairie'>Import des librairies</a></center>"
   ]
  },
  {
   "cell_type": "code",
   "execution_count": 4,
   "id": "13a67e4a",
   "metadata": {},
   "outputs": [
    {
     "data": {
      "text/html": [
       "        <script type=\"text/javascript\">\n",
       "        window.PlotlyConfig = {MathJaxConfig: 'local'};\n",
       "        if (window.MathJax && window.MathJax.Hub && window.MathJax.Hub.Config) {window.MathJax.Hub.Config({SVG: {font: \"STIX-Web\"}});}\n",
       "        if (typeof require !== 'undefined') {\n",
       "        require.undef(\"plotly\");\n",
       "        requirejs.config({\n",
       "            paths: {\n",
       "                'plotly': ['https://cdn.plot.ly/plotly-2.12.1.min']\n",
       "            }\n",
       "        });\n",
       "        require(['plotly'], function(Plotly) {\n",
       "            window._Plotly = Plotly;\n",
       "        });\n",
       "        }\n",
       "        </script>\n",
       "        "
      ]
     },
     "metadata": {},
     "output_type": "display_data"
    }
   ],
   "source": [
    "# Numpy\n",
    "import numpy as np\n",
    "\n",
    "# Matplotlib\n",
    "import matplotlib.pyplot as plt\n",
    "\n",
    "# Pandas\n",
    "import pandas as pd\n",
    "\n",
    "# Seaborn\n",
    "import seaborn as sns\n",
    "\n",
    "# Plotly\n",
    "import plotly.express as px\n",
    "import plotly as pl\n",
    "import plotly.graph_objs as gobj\n",
    "from plotly.offline import download_plotlyjs,init_notebook_mode,plot,iplot\n",
    "init_notebook_mode(connected=True)\n",
    "import plotly.graph_objects as go\n",
    "\n",
    "# Pickle\n",
    "import pickle as pickle\n",
    "\n",
    "# Missingo\n",
    "import missingno as msno\n",
    "\n",
    "# Statsmodels\n",
    "import statsmodels.api as sm\n",
    "from statsmodels.formula.api import ols\n",
    "\n",
    "# Sklearn\n",
    "from sklearn import preprocessing\n",
    "from sklearn.neighbors import KNeighborsClassifier\n",
    "from sklearn.impute import KNNImputer\n",
    "from sklearn.model_selection import train_test_split\n",
    "from sklearn import metrics\n",
    "from sklearn.decomposition import PCA\n",
    "from sklearn.preprocessing import StandardScaler\n",
    "\n",
    "# Sscipy\n",
    "from scipy import stats\n",
    "from scipy.stats import variation\n",
    "from scipy.stats import skew\n",
    "from scipy.stats import chi2_contingency\n",
    "from scipy.stats import chi2\n",
    "from scipy.stats import pearsonr\n",
    "\n",
    "# GC\n",
    "import gc\n",
    "\n",
    "# JSON\n",
    "import json"
   ]
  },
  {
   "cell_type": "markdown",
   "id": "9d0685d0",
   "metadata": {},
   "source": [
    "## <center><a id='présentation'>Présentation du jeu de données</a></center>"
   ]
  },
  {
   "cell_type": "markdown",
   "id": "58507716",
   "metadata": {},
   "source": [
    "## <center><a id='doublons'>Suppression des doublons</a></center>"
   ]
  },
  {
   "cell_type": "markdown",
   "id": "6b67fb32",
   "metadata": {},
   "source": [
    "## <center><a id='manquantes'>Traitements des valeurs manquantes</a></center>"
   ]
  },
  {
   "cell_type": "markdown",
   "id": "9fae6fd5",
   "metadata": {},
   "source": [
    "## <center><a id='non-utilisée'>Suppression des variables non-utilisées du jeu de données</a></center>"
   ]
  },
  {
   "cell_type": "markdown",
   "id": "5c42a19b",
   "metadata": {},
   "source": [
    "# <center><a id='comparaison'>Comparaison et synthèse des résultats pour les modèles utilisés</a></center>"
   ]
  },
  {
   "cell_type": "markdown",
   "id": "e3a97e4f",
   "metadata": {},
   "source": [
    "# <center><a id='interpreter'>Interprétabilité du modèle</a></center>"
   ]
  },
  {
   "cell_type": "markdown",
   "id": "8b8308cf",
   "metadata": {},
   "source": [
    "# <center><a id='conclusion'>Conclusion</a></center>"
   ]
  },
  {
   "cell_type": "markdown",
   "id": "92f205c0",
   "metadata": {},
   "source": [
    "## <center><a id='scoring'>Conclusion du modèle de scoring</a></center>"
   ]
  }
 ],
 "metadata": {
  "kernelspec": {
   "display_name": "Python 3 (ipykernel)",
   "language": "python",
   "name": "python3"
  },
  "language_info": {
   "codemirror_mode": {
    "name": "ipython",
    "version": 3
   },
   "file_extension": ".py",
   "mimetype": "text/x-python",
   "name": "python",
   "nbconvert_exporter": "python",
   "pygments_lexer": "ipython3",
   "version": "3.9.12"
  }
 },
 "nbformat": 4,
 "nbformat_minor": 5
}
